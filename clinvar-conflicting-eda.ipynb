{
 "cells": [
  {
   "cell_type": "markdown",
   "metadata": {},
   "source": [
    "# clinvar-conflicting EDA"
   ]
  },
  {
   "cell_type": "code",
   "execution_count": 1,
   "metadata": {},
   "outputs": [],
   "source": [
    "import matplotlib.pyplot as plt\n",
    "%matplotlib inline\n",
    "import seaborn as sns\n",
    "sns.set_style(style='whitegrid')\n",
    "sns.set(font_scale=1.5);\n",
    "\n",
    "import pandas as pd"
   ]
  },
  {
   "cell_type": "code",
   "execution_count": 2,
   "metadata": {},
   "outputs": [],
   "source": [
    "df = pd.read_csv('clinvar_conflicting.csv', dtype={0: object})"
   ]
  },
  {
   "cell_type": "code",
   "execution_count": 3,
   "metadata": {},
   "outputs": [
    {
     "data": {
      "text/html": [
       "<div>\n",
       "<style scoped>\n",
       "    .dataframe tbody tr th:only-of-type {\n",
       "        vertical-align: middle;\n",
       "    }\n",
       "\n",
       "    .dataframe tbody tr th {\n",
       "        vertical-align: top;\n",
       "    }\n",
       "\n",
       "    .dataframe thead th {\n",
       "        text-align: right;\n",
       "    }\n",
       "</style>\n",
       "<table border=\"1\" class=\"dataframe\">\n",
       "  <thead>\n",
       "    <tr style=\"text-align: right;\">\n",
       "      <th></th>\n",
       "      <th>CHROM</th>\n",
       "      <th>POS</th>\n",
       "      <th>REF</th>\n",
       "      <th>ALT</th>\n",
       "      <th>AF_ESP</th>\n",
       "      <th>AF_EXAC</th>\n",
       "      <th>AF_TGP</th>\n",
       "      <th>CLNDISDB</th>\n",
       "      <th>CLNDISDBINCL</th>\n",
       "      <th>CLNDN</th>\n",
       "      <th>CLNDNINCL</th>\n",
       "      <th>CLNHGVS</th>\n",
       "      <th>CLNSIGINCL</th>\n",
       "      <th>CLNVC</th>\n",
       "      <th>CLNVI</th>\n",
       "      <th>GENEINFO</th>\n",
       "      <th>MC</th>\n",
       "      <th>ORIGIN</th>\n",
       "      <th>SSR</th>\n",
       "      <th>CLASS</th>\n",
       "    </tr>\n",
       "  </thead>\n",
       "  <tbody>\n",
       "    <tr>\n",
       "      <th>0</th>\n",
       "      <td>1</td>\n",
       "      <td>955563</td>\n",
       "      <td>G</td>\n",
       "      <td>C</td>\n",
       "      <td>0.0000</td>\n",
       "      <td>0.00000</td>\n",
       "      <td>0.0000</td>\n",
       "      <td>MedGen:C3808739,OMIM:615120|MedGen:CN169374</td>\n",
       "      <td>NaN</td>\n",
       "      <td>Myasthenic_syndrome,_congenital,_8|not_specified</td>\n",
       "      <td>NaN</td>\n",
       "      <td>NC_000001.10:g.955563G&gt;C</td>\n",
       "      <td>NaN</td>\n",
       "      <td>single_nucleotide_variant</td>\n",
       "      <td>NaN</td>\n",
       "      <td>AGRN:375790</td>\n",
       "      <td>SO:0001583|missense_variant</td>\n",
       "      <td>1.0</td>\n",
       "      <td>NaN</td>\n",
       "      <td>0</td>\n",
       "    </tr>\n",
       "    <tr>\n",
       "      <th>1</th>\n",
       "      <td>1</td>\n",
       "      <td>955597</td>\n",
       "      <td>G</td>\n",
       "      <td>T</td>\n",
       "      <td>0.0000</td>\n",
       "      <td>0.42418</td>\n",
       "      <td>0.2826</td>\n",
       "      <td>MedGen:CN169374</td>\n",
       "      <td>NaN</td>\n",
       "      <td>not_specified</td>\n",
       "      <td>NaN</td>\n",
       "      <td>NC_000001.10:g.955597G&gt;T</td>\n",
       "      <td>NaN</td>\n",
       "      <td>single_nucleotide_variant</td>\n",
       "      <td>NaN</td>\n",
       "      <td>AGRN:375790</td>\n",
       "      <td>SO:0001819|synonymous_variant</td>\n",
       "      <td>1.0</td>\n",
       "      <td>NaN</td>\n",
       "      <td>0</td>\n",
       "    </tr>\n",
       "    <tr>\n",
       "      <th>2</th>\n",
       "      <td>1</td>\n",
       "      <td>955619</td>\n",
       "      <td>G</td>\n",
       "      <td>C</td>\n",
       "      <td>0.0000</td>\n",
       "      <td>0.03475</td>\n",
       "      <td>0.0088</td>\n",
       "      <td>MedGen:C3808739,OMIM:615120|MedGen:CN169374</td>\n",
       "      <td>NaN</td>\n",
       "      <td>Myasthenic_syndrome,_congenital,_8|not_specified</td>\n",
       "      <td>NaN</td>\n",
       "      <td>NC_000001.10:g.955619G&gt;C</td>\n",
       "      <td>NaN</td>\n",
       "      <td>single_nucleotide_variant</td>\n",
       "      <td>NaN</td>\n",
       "      <td>AGRN:375790</td>\n",
       "      <td>SO:0001583|missense_variant</td>\n",
       "      <td>1.0</td>\n",
       "      <td>NaN</td>\n",
       "      <td>1</td>\n",
       "    </tr>\n",
       "    <tr>\n",
       "      <th>3</th>\n",
       "      <td>1</td>\n",
       "      <td>957640</td>\n",
       "      <td>C</td>\n",
       "      <td>T</td>\n",
       "      <td>0.0318</td>\n",
       "      <td>0.02016</td>\n",
       "      <td>0.0328</td>\n",
       "      <td>MedGen:C3808739,OMIM:615120|MedGen:CN169374</td>\n",
       "      <td>NaN</td>\n",
       "      <td>Myasthenic_syndrome,_congenital,_8|not_specified</td>\n",
       "      <td>NaN</td>\n",
       "      <td>NC_000001.10:g.957640C&gt;T</td>\n",
       "      <td>NaN</td>\n",
       "      <td>single_nucleotide_variant</td>\n",
       "      <td>NaN</td>\n",
       "      <td>AGRN:375790</td>\n",
       "      <td>SO:0001819|synonymous_variant</td>\n",
       "      <td>1.0</td>\n",
       "      <td>NaN</td>\n",
       "      <td>0</td>\n",
       "    </tr>\n",
       "    <tr>\n",
       "      <th>4</th>\n",
       "      <td>1</td>\n",
       "      <td>976059</td>\n",
       "      <td>C</td>\n",
       "      <td>T</td>\n",
       "      <td>0.0000</td>\n",
       "      <td>0.00022</td>\n",
       "      <td>0.0010</td>\n",
       "      <td>MedGen:CN169374</td>\n",
       "      <td>NaN</td>\n",
       "      <td>not_specified</td>\n",
       "      <td>NaN</td>\n",
       "      <td>NC_000001.10:g.976059C&gt;T</td>\n",
       "      <td>NaN</td>\n",
       "      <td>single_nucleotide_variant</td>\n",
       "      <td>NaN</td>\n",
       "      <td>AGRN:375790</td>\n",
       "      <td>SO:0001819|synonymous_variant</td>\n",
       "      <td>1.0</td>\n",
       "      <td>NaN</td>\n",
       "      <td>1</td>\n",
       "    </tr>\n",
       "  </tbody>\n",
       "</table>\n",
       "</div>"
      ],
      "text/plain": [
       "  CHROM     POS REF ALT  AF_ESP  AF_EXAC  AF_TGP  \\\n",
       "0     1  955563   G   C  0.0000  0.00000  0.0000   \n",
       "1     1  955597   G   T  0.0000  0.42418  0.2826   \n",
       "2     1  955619   G   C  0.0000  0.03475  0.0088   \n",
       "3     1  957640   C   T  0.0318  0.02016  0.0328   \n",
       "4     1  976059   C   T  0.0000  0.00022  0.0010   \n",
       "\n",
       "                                      CLNDISDB CLNDISDBINCL  \\\n",
       "0  MedGen:C3808739,OMIM:615120|MedGen:CN169374          NaN   \n",
       "1                              MedGen:CN169374          NaN   \n",
       "2  MedGen:C3808739,OMIM:615120|MedGen:CN169374          NaN   \n",
       "3  MedGen:C3808739,OMIM:615120|MedGen:CN169374          NaN   \n",
       "4                              MedGen:CN169374          NaN   \n",
       "\n",
       "                                              CLNDN CLNDNINCL  \\\n",
       "0  Myasthenic_syndrome,_congenital,_8|not_specified       NaN   \n",
       "1                                     not_specified       NaN   \n",
       "2  Myasthenic_syndrome,_congenital,_8|not_specified       NaN   \n",
       "3  Myasthenic_syndrome,_congenital,_8|not_specified       NaN   \n",
       "4                                     not_specified       NaN   \n",
       "\n",
       "                    CLNHGVS CLNSIGINCL                      CLNVC CLNVI  \\\n",
       "0  NC_000001.10:g.955563G>C        NaN  single_nucleotide_variant   NaN   \n",
       "1  NC_000001.10:g.955597G>T        NaN  single_nucleotide_variant   NaN   \n",
       "2  NC_000001.10:g.955619G>C        NaN  single_nucleotide_variant   NaN   \n",
       "3  NC_000001.10:g.957640C>T        NaN  single_nucleotide_variant   NaN   \n",
       "4  NC_000001.10:g.976059C>T        NaN  single_nucleotide_variant   NaN   \n",
       "\n",
       "      GENEINFO                             MC  ORIGIN  SSR  CLASS  \n",
       "0  AGRN:375790    SO:0001583|missense_variant     1.0  NaN      0  \n",
       "1  AGRN:375790  SO:0001819|synonymous_variant     1.0  NaN      0  \n",
       "2  AGRN:375790    SO:0001583|missense_variant     1.0  NaN      1  \n",
       "3  AGRN:375790  SO:0001819|synonymous_variant     1.0  NaN      0  \n",
       "4  AGRN:375790  SO:0001819|synonymous_variant     1.0  NaN      1  "
      ]
     },
     "execution_count": 3,
     "metadata": {},
     "output_type": "execute_result"
    }
   ],
   "source": [
    "df.head()"
   ]
  },
  {
   "cell_type": "code",
   "execution_count": 4,
   "metadata": {},
   "outputs": [
    {
     "data": {
      "text/plain": [
       "0    0.748011\n",
       "1    0.251989\n",
       "Name: CLASS, dtype: float64"
      ]
     },
     "execution_count": 4,
     "metadata": {},
     "output_type": "execute_result"
    }
   ],
   "source": [
    "# Check the CLASS distribution\n",
    "df.CLASS.value_counts(normalize=True)"
   ]
  },
  {
   "cell_type": "code",
   "execution_count": 5,
   "metadata": {},
   "outputs": [
    {
     "data": {
      "text/plain": [
       "CHROM              24\n",
       "POS             63152\n",
       "REF               866\n",
       "ALT               459\n",
       "AF_ESP           2851\n",
       "AF_EXAC          6692\n",
       "AF_TGP           2094\n",
       "CLNDISDB         9244\n",
       "CLNDISDBINCL       48\n",
       "CLNDN            9271\n",
       "CLNDNINCL          54\n",
       "CLNHGVS         65245\n",
       "CLNSIGINCL         68\n",
       "CLNVC               7\n",
       "CLNVI           26305\n",
       "GENEINFO         2509\n",
       "MC                 89\n",
       "ORIGIN             27\n",
       "SSR                 2\n",
       "CLASS               2\n",
       "dtype: int64"
      ]
     },
     "execution_count": 5,
     "metadata": {},
     "output_type": "execute_result"
    }
   ],
   "source": [
    "# How many unique values are there for each column?\n",
    "df.nunique()"
   ]
  },
  {
   "cell_type": "markdown",
   "metadata": {},
   "source": [
    "## CHROM"
   ]
  },
  {
   "cell_type": "code",
   "execution_count": 6,
   "metadata": {},
   "outputs": [
    {
     "data": {
      "image/png": "[encoded data removed]",
      "text/plain": [
       "<Figure size 432x288 with 1 Axes>"
      ]
     },
     "metadata": {},
     "output_type": "display_data"
    }
   ],
   "source": [
    "# Distribution of chromosomes\n",
    "df.CHROM.value_counts(normalize=True).plot(kind='bar');"
   ]
  },
  {
   "cell_type": "markdown",
   "metadata": {},
   "source": [
    "## CLNVC (Variant Type)"
   ]
  },
  {
   "cell_type": "code",
   "execution_count": 7,
   "metadata": {},
   "outputs": [
    {
     "data": {
      "image/png": "[encoded data removed]",
      "text/plain": [
       "<Figure size 576x576 with 1 Axes>"
      ]
     },
     "metadata": {},
     "output_type": "display_data"
    }
   ],
   "source": [
    "# CLNVC is the type of variant\n",
    "plt.figure(figsize=(8,8))\n",
    "g = sns.countplot(x=\"CLNVC\", hue='CLASS', data=df,);\n",
    "g.set(yscale=\"log\")\n",
    "g.set_ylabel(\"log count CLNVC\")\n",
    "g.set_xlabel(\"Variant type\")\n",
    "plt.xticks(rotation=90);"
   ]
  },
  {
   "cell_type": "markdown",
   "metadata": {},
   "source": [
    "## MC (molecular consequence)"
   ]
  },
  {
   "cell_type": "code",
   "execution_count": 9,
   "metadata": {
    "scrolled": true
   },
   "outputs": [],
   "source": [
    "MC_list = df.MC.dropna().str.split(',').apply(lambda row: list((c.split('|')[1] for c in row)))\n",
    "MC_encoded = pd.get_dummies(MC_list.apply(pd.Series).stack()).sum(level=0)\n",
    "MC_encoded = MC_encoded.reindex(index=MC_list.index)"
   ]
  },
  {
   "cell_type": "code",
   "execution_count": 10,
   "metadata": {},
   "outputs": [
    {
     "data": {
      "text/plain": [
       "2KB_upstream_variant       0\n",
       "3_prime_UTR_variant        0\n",
       "500B_downstream_variant    0\n",
       "5_prime_UTR_variant        0\n",
       "frameshift_variant         0\n",
       "intron_variant             0\n",
       "missense_variant           1\n",
       "nonsense                   0\n",
       "splice_acceptor_variant    0\n",
       "splice_donor_variant       0\n",
       "synonymous_variant         0\n",
       "Name: 65228, dtype: uint8"
      ]
     },
     "execution_count": 10,
     "metadata": {},
     "output_type": "execute_result"
    }
   ],
   "source": [
    "# Did we transfer the index correctly? Yes!\n",
    "# 65228 should be missense\n",
    "MC_encoded.loc[65228]"
   ]
  },
  {
   "cell_type": "code",
   "execution_count": 11,
   "metadata": {},
   "outputs": [
    {
     "data": {
      "text/html": [
       "<div>\n",
       "<style scoped>\n",
       "    .dataframe tbody tr th:only-of-type {\n",
       "        vertical-align: middle;\n",
       "    }\n",
       "\n",
       "    .dataframe tbody tr th {\n",
       "        vertical-align: top;\n",
       "    }\n",
       "\n",
       "    .dataframe thead th {\n",
       "        text-align: right;\n",
       "    }\n",
       "</style>\n",
       "<table border=\"1\" class=\"dataframe\">\n",
       "  <thead>\n",
       "    <tr style=\"text-align: right;\">\n",
       "      <th></th>\n",
       "      <th>2KB_upstream_variant</th>\n",
       "      <th>3_prime_UTR_variant</th>\n",
       "      <th>500B_downstream_variant</th>\n",
       "      <th>5_prime_UTR_variant</th>\n",
       "      <th>frameshift_variant</th>\n",
       "      <th>intron_variant</th>\n",
       "      <th>missense_variant</th>\n",
       "      <th>nonsense</th>\n",
       "      <th>splice_acceptor_variant</th>\n",
       "      <th>splice_donor_variant</th>\n",
       "      <th>synonymous_variant</th>\n",
       "    </tr>\n",
       "  </thead>\n",
       "  <tbody>\n",
       "    <tr>\n",
       "      <th>0</th>\n",
       "      <td>0</td>\n",
       "      <td>0</td>\n",
       "      <td>0</td>\n",
       "      <td>0</td>\n",
       "      <td>0</td>\n",
       "      <td>0</td>\n",
       "      <td>1</td>\n",
       "      <td>0</td>\n",
       "      <td>0</td>\n",
       "      <td>0</td>\n",
       "      <td>0</td>\n",
       "    </tr>\n",
       "    <tr>\n",
       "      <th>1</th>\n",
       "      <td>0</td>\n",
       "      <td>0</td>\n",
       "      <td>0</td>\n",
       "      <td>0</td>\n",
       "      <td>0</td>\n",
       "      <td>0</td>\n",
       "      <td>0</td>\n",
       "      <td>0</td>\n",
       "      <td>0</td>\n",
       "      <td>0</td>\n",
       "      <td>1</td>\n",
       "    </tr>\n",
       "    <tr>\n",
       "      <th>2</th>\n",
       "      <td>0</td>\n",
       "      <td>0</td>\n",
       "      <td>0</td>\n",
       "      <td>0</td>\n",
       "      <td>0</td>\n",
       "      <td>0</td>\n",
       "      <td>1</td>\n",
       "      <td>0</td>\n",
       "      <td>0</td>\n",
       "      <td>0</td>\n",
       "      <td>0</td>\n",
       "    </tr>\n",
       "    <tr>\n",
       "      <th>3</th>\n",
       "      <td>0</td>\n",
       "      <td>0</td>\n",
       "      <td>0</td>\n",
       "      <td>0</td>\n",
       "      <td>0</td>\n",
       "      <td>0</td>\n",
       "      <td>0</td>\n",
       "      <td>0</td>\n",
       "      <td>0</td>\n",
       "      <td>0</td>\n",
       "      <td>1</td>\n",
       "    </tr>\n",
       "    <tr>\n",
       "      <th>4</th>\n",
       "      <td>0</td>\n",
       "      <td>0</td>\n",
       "      <td>0</td>\n",
       "      <td>0</td>\n",
       "      <td>0</td>\n",
       "      <td>0</td>\n",
       "      <td>0</td>\n",
       "      <td>0</td>\n",
       "      <td>0</td>\n",
       "      <td>0</td>\n",
       "      <td>1</td>\n",
       "    </tr>\n",
       "  </tbody>\n",
       "</table>\n",
       "</div>"
      ],
      "text/plain": [
       "   2KB_upstream_variant  3_prime_UTR_variant  500B_downstream_variant  \\\n",
       "0                     0                    0                        0   \n",
       "1                     0                    0                        0   \n",
       "2                     0                    0                        0   \n",
       "3                     0                    0                        0   \n",
       "4                     0                    0                        0   \n",
       "\n",
       "   5_prime_UTR_variant  frameshift_variant  intron_variant  missense_variant  \\\n",
       "0                    0                   0               0                 1   \n",
       "1                    0                   0               0                 0   \n",
       "2                    0                   0               0                 1   \n",
       "3                    0                   0               0                 0   \n",
       "4                    0                   0               0                 0   \n",
       "\n",
       "   nonsense  splice_acceptor_variant  splice_donor_variant  synonymous_variant  \n",
       "0         0                        0                     0                   0  \n",
       "1         0                        0                     0                   1  \n",
       "2         0                        0                     0                   0  \n",
       "3         0                        0                     0                   1  \n",
       "4         0                        0                     0                   1  "
      ]
     },
     "execution_count": 11,
     "metadata": {},
     "output_type": "execute_result"
    }
   ],
   "source": [
    "# Transformed MC feature\n",
    "MC_encoded.head()"
   ]
  },
  {
   "cell_type": "code",
   "execution_count": 12,
   "metadata": {},
   "outputs": [
    {
     "data": {
      "text/plain": [
       "2KB_upstream_variant         429\n",
       "3_prime_UTR_variant          704\n",
       "500B_downstream_variant       29\n",
       "5_prime_UTR_variant         1990\n",
       "frameshift_variant          1861\n",
       "intron_variant             11970\n",
       "missense_variant           26672\n",
       "nonsense                    1783\n",
       "splice_acceptor_variant      428\n",
       "splice_donor_variant         579\n",
       "synonymous_variant         18407\n",
       "dtype: int64"
      ]
     },
     "execution_count": 12,
     "metadata": {},
     "output_type": "execute_result"
    }
   ],
   "source": [
    "# counts of each type of variant\n",
    "MC_encoded.sum()"
   ]
  },
  {
   "cell_type": "code",
   "execution_count": 13,
   "metadata": {},
   "outputs": [],
   "source": [
    "# Incorporate the transformed MC feature into the existing DataFrame\n",
    "df = df.join(MC_encoded).drop(columns=['MC'])"
   ]
  },
  {
   "cell_type": "markdown",
   "metadata": {},
   "source": [
    "## Correlation"
   ]
  },
  {
   "cell_type": "code",
   "execution_count": 14,
   "metadata": {},
   "outputs": [
    {
     "data": {
      "image/png": "[encoded data removed]",
      "text/plain": [
       "<Figure size 792x648 with 2 Axes>"
      ]
     },
     "metadata": {},
     "output_type": "display_data"
    }
   ],
   "source": [
    "corr = df.corr()\n",
    "\n",
    "import numpy as np\n",
    "# Generate a mask for the upper triangle\n",
    "mask = np.zeros_like(corr, dtype=np.bool)\n",
    "mask[np.triu_indices_from(mask)] = True\n",
    "\n",
    "# Set up the matplotlib figure\n",
    "f, ax = plt.subplots(figsize=(11, 9));\n",
    "\n",
    "# Generate a custom diverging colormap\n",
    "cmap = sns.diverging_palette(220, 10, as_cmap=True);\n",
    "\n",
    "# Draw the heatmap with the mask and correct aspect ratio\n",
    "g = sns.heatmap(corr, mask=mask, cmap=cmap, vmax=.3, center=0,\n",
    "                square=True, linewidths=.5, cbar_kws={\"shrink\": .5});\n",
    "\n",
    "from matplotlib.patches import Rectangle\n",
    "#ax = g.ax_heatmap\n",
    "\n",
    "g.add_patch(Rectangle((6, 12), 1, 2, fill=False, edgecolor='blue', lw=4));"
   ]
  },
  {
   "cell_type": "markdown",
   "metadata": {},
   "source": [
    "**Notice the positive correlation of intronic and missense variants with conflicting classifications (dark blue box).  This fits our current understanding, these types of variants in particular are known to be ambiguous.**"
   ]
  },
  {
   "cell_type": "markdown",
   "metadata": {},
   "source": [
    "## GENEINFO"
   ]
  },
  {
   "cell_type": "code",
   "execution_count": 15,
   "metadata": {},
   "outputs": [
    {
     "data": {
      "text/plain": [
       "GENEINFO\n",
       "CFB:629|C2:717                    6\n",
       "DPM1:8813                         5\n",
       "MRPS16:51021|DNAJC9-AS1:414245    4\n",
       "NSUN2:54888                       4\n",
       "ACSL4:2182                        3\n",
       "Name: GENEINFO, dtype: int64"
      ]
     },
     "execution_count": 15,
     "metadata": {},
     "output_type": "execute_result"
    }
   ],
   "source": [
    "# Genes by class\n",
    "genes = df.groupby('CLASS').GENEINFO.value_counts(normalize=False)\n",
    "\n",
    "# Counts of genes in the conflicting class that aren't in the non-conflicting class\n",
    "genes[1].loc[genes[1].index.isin(set(genes[1].index) - set(genes[0].index))].head()"
   ]
  },
  {
   "cell_type": "markdown",
   "metadata": {},
   "source": [
    "## Allele Frequencies"
   ]
  },
  {
   "cell_type": "code",
   "execution_count": 16,
   "metadata": {},
   "outputs": [
    {
     "name": "stderr",
     "output_type": "stream",
     "text": [
      "/anaconda3/envs/clinvar_py36/lib/python3.6/site-packages/matplotlib/axes/_axes.py:6462: UserWarning: The 'normed' kwarg is deprecated, and has been replaced by the 'density' kwarg.\n",
      "  warnings.warn(\"The 'normed' kwarg is deprecated, and has been \"\n"
     ]
    },
    {
     "data": {
      "image/png": "[encoded data removed]",
      "text/plain": [
       "<Figure size 432x288 with 1 Axes>"
      ]
     },
     "metadata": {},
     "output_type": "display_data"
    }
   ],
   "source": [
    "# most values are low\n",
    "sns.distplot(df.AF_ESP, label=\"AF_ESP\")\n",
    "sns.distplot(df.AF_EXAC, label=\"AF_EXAC\")\n",
    "sns.distplot(df.AF_TGP, label=\"AF_TGP\")\n",
    "plt.legend();"
   ]
  }
 ],
 "metadata": {
  "kernelspec": {
   "display_name": "clinvar_py36",
   "language": "python",
   "name": "clinvar_py36"
  },
  "language_info": {
   "codemirror_mode": {
    "name": "ipython",
    "version": 3
   },
   "file_extension": ".py",
   "mimetype": "text/x-python",
   "name": "python",
   "nbconvert_exporter": "python",
   "pygments_lexer": "ipython3",
   "version": "3.6.5"
  }
 },
 "nbformat": 4,
 "nbformat_minor": 2
}
